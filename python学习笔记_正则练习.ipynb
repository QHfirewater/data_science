{
 "cells": [
  {
   "cell_type": "markdown",
   "metadata": {},
   "source": [
    "正则的比配种类：\n",
    "1、字母 2、数字\n",
    "  3、换行符等\n",
    "  4、不同行、边界\n",
    "  5、以及匹配次数问题"
   ]
  },
  {
   "cell_type": "code",
   "execution_count": 30,
   "metadata": {
    "ExecuteTime": {
     "end_time": "2021-04-16T07:19:24.281613Z",
     "start_time": "2021-04-16T07:19:24.267099Z"
    }
   },
   "outputs": [],
   "source": [
    "import numpy as np \n",
    "import pandas as pd\n",
    "import re"
   ]
  },
  {
   "cell_type": "markdown",
   "metadata": {},
   "source": [
    "# 正则的基本用法"
   ]
  },
  {
   "cell_type": "code",
   "execution_count": 31,
   "metadata": {
    "ExecuteTime": {
     "end_time": "2021-04-16T07:19:24.297576Z",
     "start_time": "2021-04-16T07:19:24.282586Z"
    }
   },
   "outputs": [
    {
     "data": {
      "text/plain": [
       "['abc']"
      ]
     },
     "execution_count": 31,
     "metadata": {},
     "output_type": "execute_result"
    }
   ],
   "source": [
    "s = '123abc321abbckvbmp^-@uil|||rg1296708596'\n",
    "re.findall(r'abc',s)"
   ]
  },
  {
   "cell_type": "markdown",
   "metadata": {},
   "source": [
    "findall(rule,target[,flag]) 函数可以直接在目标字符串中查找复合规则的字符串，其中第一个参数是规则，第二个参数是字符串,后面还可以跟一个规则选项。返回结果是一个列表，中间存放复合规则的字符串，如果未匹配到，则返回一个空列表。"
   ]
  },
  {
   "cell_type": "code",
   "execution_count": 32,
   "metadata": {
    "ExecuteTime": {
     "end_time": "2021-04-16T07:19:24.313504Z",
     "start_time": "2021-04-16T07:19:24.298542Z"
    }
   },
   "outputs": [
    {
     "data": {
      "text/plain": [
       "['a', 'b', 'c', 'a', 'b', 'b', 'c', 'b']"
      ]
     },
     "execution_count": 32,
     "metadata": {},
     "output_type": "execute_result"
    }
   ],
   "source": [
    "re.findall(r'[abc]',s)#[]中表示规定的范围，逻辑上基本上是采用或的关系"
   ]
  },
  {
   "cell_type": "code",
   "execution_count": 33,
   "metadata": {
    "ExecuteTime": {
     "end_time": "2021-04-16T07:19:24.329486Z",
     "start_time": "2021-04-16T07:19:24.314501Z"
    }
   },
   "outputs": [
    {
     "data": {
      "text/plain": [
       "['a', 'c', 'a', 'c', '|', '|', '|']"
      ]
     },
     "execution_count": 33,
     "metadata": {},
     "output_type": "execute_result"
    }
   ],
   "source": [
    "re.findall(r'[a|c]',s) #当|在内部时，不在比表示或，而是表示他自身"
   ]
  },
  {
   "cell_type": "code",
   "execution_count": 34,
   "metadata": {
    "ExecuteTime": {
     "end_time": "2021-04-16T07:19:24.345417Z",
     "start_time": "2021-04-16T07:19:24.330457Z"
    }
   },
   "outputs": [
    {
     "data": {
      "text/plain": [
       "['a', 'c', 'a', 'c']"
      ]
     },
     "execution_count": 34,
     "metadata": {},
     "output_type": "execute_result"
    }
   ],
   "source": [
    "re.findall(r'[a]|[c]',s) #在|的左右两边必须是两条完整的规则"
   ]
  },
  {
   "cell_type": "markdown",
   "metadata": {},
   "source": [
    "正则的规则也是由一个字符串去定义的，在正则式中大量使用了转义字符‘\\’,如果不使用原始字符串（raw字符串），那么‘\\’的地方，要写成两个'\\\\'."
   ]
  },
  {
   "cell_type": "markdown",
   "metadata": {},
   "source": [
    "字符串分类：\n",
    "\n",
    "功能字符串：. *  |  ?  $  \\  +\n",
    "\n",
    "规则分解符：（） []  {} \n",
    "\n",
    "预定转义字符集 \\d  \\w  \\s\n",
    "\n",
    "其他特殊功能字符： #  ！ ： -"
   ]
  },
  {
   "cell_type": "markdown",
   "metadata": {},
   "source": [
    "## 功能字符\n",
    "\n"
   ]
  },
  {
   "cell_type": "markdown",
   "metadata": {},
   "source": [
    "### ‘[]’,\n",
    "\n",
    "表明一个字符集合，能够匹配包含其中的任意一个字符。如[ab12]表示匹配‘a’,'b','1','2'"
   ]
  },
  {
   "cell_type": "code",
   "execution_count": 35,
   "metadata": {
    "ExecuteTime": {
     "end_time": "2021-04-16T07:19:24.361405Z",
     "start_time": "2021-04-16T07:19:24.346416Z"
    }
   },
   "outputs": [
    {
     "data": {
      "text/plain": [
       "['a', 'b', 'c', 'a', 'b', 'b', 'c', 'b']"
      ]
     },
     "execution_count": 35,
     "metadata": {},
     "output_type": "execute_result"
    }
   ],
   "source": [
    "re.findall(r'[abcde]',s)"
   ]
  },
  {
   "cell_type": "markdown",
   "metadata": {},
   "source": [
    "### “-”，\n",
    "\n",
    "用‘-’表示范围，如[a-z]表示匹配从a-z之间的任意字符"
   ]
  },
  {
   "cell_type": "code",
   "execution_count": 36,
   "metadata": {
    "ExecuteTime": {
     "end_time": "2021-04-16T07:19:24.377331Z",
     "start_time": "2021-04-16T07:19:24.362372Z"
    },
    "scrolled": true
   },
   "outputs": [
    {
     "data": {
      "text/plain": [
       "['a', 'b', 'c', 'a', 'b', 'b', 'c', 'b']"
      ]
     },
     "execution_count": 36,
     "metadata": {},
     "output_type": "execute_result"
    }
   ],
   "source": [
    "re.findall(r'[a-c]',s)#可以用-表示范围"
   ]
  },
  {
   "cell_type": "markdown",
   "metadata": {},
   "source": [
    "### “^”\n",
    "\n",
    "#### 在规则内部开头表示非的关系，在规则内部非开头，表示元字符串"
   ]
  },
  {
   "cell_type": "code",
   "execution_count": 37,
   "metadata": {
    "ExecuteTime": {
     "end_time": "2021-04-16T07:19:24.393289Z",
     "start_time": "2021-04-16T07:19:24.379326Z"
    }
   },
   "outputs": [
    {
     "data": {
      "text/plain": [
       "['1',\n",
       " '2',\n",
       " '3',\n",
       " '3',\n",
       " '2',\n",
       " '1',\n",
       " 'k',\n",
       " 'v',\n",
       " 'm',\n",
       " 'p',\n",
       " '^',\n",
       " '-',\n",
       " '@',\n",
       " 'u',\n",
       " 'i',\n",
       " 'l',\n",
       " '|',\n",
       " '|',\n",
       " '|',\n",
       " 'r',\n",
       " 'g',\n",
       " '1',\n",
       " '2',\n",
       " '9',\n",
       " '6',\n",
       " '7',\n",
       " '0',\n",
       " '8',\n",
       " '5',\n",
       " '9',\n",
       " '6']"
      ]
     },
     "execution_count": 37,
     "metadata": {},
     "output_type": "execute_result"
    }
   ],
   "source": [
    "re.findall(r'[^a-c]',s)#r如果^在开头表示取非，不匹配字符串内字符"
   ]
  },
  {
   "cell_type": "markdown",
   "metadata": {},
   "source": [
    "#### 在规则内部非开头，表示元字符串；"
   ]
  },
  {
   "cell_type": "code",
   "execution_count": 38,
   "metadata": {
    "ExecuteTime": {
     "end_time": "2021-04-16T07:19:24.408249Z",
     "start_time": "2021-04-16T07:19:24.394286Z"
    }
   },
   "outputs": [
    {
     "data": {
      "text/plain": [
       "['1', '2', 'a', 'b', '2', '1', 'a', 'b', 'b', 'b', '^', '1', '2']"
      ]
     },
     "execution_count": 38,
     "metadata": {},
     "output_type": "execute_result"
    }
   ],
   "source": [
    "re.findall(r'[12^ab]',s)#如果^不在开头而是在中间，表明就是匹配‘^’的意思"
   ]
  },
  {
   "cell_type": "markdown",
   "metadata": {},
   "source": [
    "#### 在规则外部开头，表示匹配字符串开头"
   ]
  },
  {
   "cell_type": "code",
   "execution_count": 39,
   "metadata": {
    "ExecuteTime": {
     "end_time": "2021-04-16T07:19:24.424207Z",
     "start_time": "2021-04-16T07:19:24.409247Z"
    }
   },
   "outputs": [
    {
     "data": {
      "text/plain": [
       "['123w']"
      ]
     },
     "execution_count": 39,
     "metadata": {},
     "output_type": "execute_result"
    }
   ],
   "source": [
    "re.findall(r'^123[sdwfad]','123wrqwbseg')"
   ]
  },
  {
   "cell_type": "markdown",
   "metadata": {},
   "source": [
    "###  “$”\n",
    "表示匹配字符串结尾"
   ]
  },
  {
   "cell_type": "code",
   "execution_count": 40,
   "metadata": {
    "ExecuteTime": {
     "end_time": "2021-04-16T07:19:24.439167Z",
     "start_time": "2021-04-16T07:19:24.425204Z"
    }
   },
   "outputs": [
    {
     "data": {
      "text/plain": [
       "['123']"
      ]
     },
     "execution_count": 40,
     "metadata": {},
     "output_type": "execute_result"
    }
   ],
   "source": [
    "re.findall(r'\\d+$','1qwew12qvsv123')"
   ]
  },
  {
   "cell_type": "markdown",
   "metadata": {},
   "source": [
    "### “|”"
   ]
  },
  {
   "cell_type": "markdown",
   "metadata": {},
   "source": [
    "#### 在规则之间表示或的关系，"
   ]
  },
  {
   "cell_type": "code",
   "execution_count": 41,
   "metadata": {
    "ExecuteTime": {
     "end_time": "2021-04-16T07:19:24.455124Z",
     "start_time": "2021-04-16T07:19:24.440163Z"
    }
   },
   "outputs": [
    {
     "data": {
      "text/plain": [
       "['1', '2', '3', 'a', 'b', '3', '2', '1', 'a', 'b', 'b', 'b', '1', '2']"
      ]
     },
     "execution_count": 41,
     "metadata": {},
     "output_type": "execute_result"
    }
   ],
   "source": [
    "re.findall(r'[a-b]|[1-3]',s)#可以用|连接两个规则，注意他的范围是两边的整条规则"
   ]
  },
  {
   "cell_type": "code",
   "execution_count": 42,
   "metadata": {
    "ExecuteTime": {
     "end_time": "2021-04-16T07:19:24.470326Z",
     "start_time": "2021-04-16T07:19:24.456121Z"
    }
   },
   "outputs": [
    {
     "data": {
      "text/plain": [
       "['12', 'ab', 'ab', '12']"
      ]
     },
     "execution_count": 42,
     "metadata": {},
     "output_type": "execute_result"
    }
   ],
   "source": [
    "re.findall(r\"ab|12\",s)#另外|在内部表示匹配的是有效范围"
   ]
  },
  {
   "cell_type": "markdown",
   "metadata": {},
   "source": [
    "#### 在规则内部表示元字符"
   ]
  },
  {
   "cell_type": "code",
   "execution_count": 43,
   "metadata": {},
   "outputs": [
    {
     "data": {
      "text/plain": [
       "'123abc321abbckvbmp^-@uil|||rg1296708596'"
      ]
     },
     "execution_count": 43,
     "metadata": {},
     "output_type": "execute_result"
    }
   ],
   "source": [
    "s"
   ]
  },
  {
   "cell_type": "code",
   "execution_count": 44,
   "metadata": {},
   "outputs": [
    {
     "data": {
      "text/plain": [
       "['1',\n",
       " '2',\n",
       " '3',\n",
       " '3',\n",
       " '2',\n",
       " '1',\n",
       " '|',\n",
       " '|',\n",
       " '|',\n",
       " '1',\n",
       " '2',\n",
       " '9',\n",
       " '6',\n",
       " '7',\n",
       " '8',\n",
       " '5',\n",
       " '9',\n",
       " '6']"
      ]
     },
     "execution_count": 44,
     "metadata": {},
     "output_type": "execute_result"
    }
   ],
   "source": [
    "re.findall(r'[1-9|]',s)"
   ]
  },
  {
   "cell_type": "code",
   "execution_count": 45,
   "metadata": {},
   "outputs": [
    {
     "data": {
      "text/plain": [
       "['|', '|', '|']"
      ]
     },
     "execution_count": 45,
     "metadata": {},
     "output_type": "execute_result"
    }
   ],
   "source": [
    "re.findall(r'\\|',s)"
   ]
  },
  {
   "cell_type": "markdown",
   "metadata": {},
   "source": [
    "### ‘.’\n",
    "匹配除换行符之外的所有字符，如果使用了s选项，则匹配包含\\n的所有字符"
   ]
  },
  {
   "cell_type": "code",
   "execution_count": 46,
   "metadata": {
    "ExecuteTime": {
     "end_time": "2021-04-16T07:19:24.485286Z",
     "start_time": "2021-04-16T07:19:24.471324Z"
    },
    "scrolled": true
   },
   "outputs": [
    {
     "name": "stdout",
     "output_type": "stream",
     "text": [
      "123\n",
      "346\n",
      "abs\n"
     ]
    }
   ],
   "source": [
    "m = '123\\n346\\nabs'\n",
    "print(m)"
   ]
  },
  {
   "cell_type": "code",
   "execution_count": 47,
   "metadata": {
    "ExecuteTime": {
     "end_time": "2021-04-16T07:19:24.501245Z",
     "start_time": "2021-04-16T07:19:24.486284Z"
    },
    "scrolled": true
   },
   "outputs": [
    {
     "data": {
      "text/plain": [
       "['1', '2', '3', '3', '4', '6', 'a', 'b', 's']"
      ]
     },
     "execution_count": 47,
     "metadata": {},
     "output_type": "execute_result"
    }
   ],
   "source": [
    "re.findall(r'.',m)#在正则中，‘。’表示匹配所有字符，‘\\n’除外"
   ]
  },
  {
   "cell_type": "code",
   "execution_count": 48,
   "metadata": {
    "ExecuteTime": {
     "end_time": "2021-04-16T07:19:24.517200Z",
     "start_time": "2021-04-16T07:19:24.502241Z"
    }
   },
   "outputs": [
    {
     "data": {
      "text/plain": [
       "['1', '2', '3', '\\n', '3', '4', '6', '\\n', 'a', 'b', 's']"
      ]
     },
     "execution_count": 48,
     "metadata": {},
     "output_type": "execute_result"
    }
   ],
   "source": [
    "re.findall(r'.',m,re.S) #如果在末尾加上re.S表示包括‘\\n’"
   ]
  },
  {
   "cell_type": "markdown",
   "metadata": {},
   "source": [
    "## 预定义字符"
   ]
  },
  {
   "cell_type": "markdown",
   "metadata": {},
   "source": [
    "### \\d表示匹配一个数字，等价于[0-9]；\\D表示匹配非数字类型，等价于[^0-9]"
   ]
  },
  {
   "cell_type": "code",
   "execution_count": 49,
   "metadata": {
    "ExecuteTime": {
     "end_time": "2021-04-16T07:19:24.532161Z",
     "start_time": "2021-04-16T07:19:24.518198Z"
    }
   },
   "outputs": [
    {
     "data": {
      "text/plain": [
       "['2', '1', '3', '1', '2', '3', '1']"
      ]
     },
     "execution_count": 49,
     "metadata": {},
     "output_type": "execute_result"
    }
   ],
   "source": [
    "re.findall(r'\\d','assafw2131231')"
   ]
  },
  {
   "cell_type": "markdown",
   "metadata": {},
   "source": [
    "### \\w表示匹配数字和字母，等价于[a-zA-Z0-9]；\\W表示匹配非英文数字和字母，等价于[^a-bA-Z0-9_]"
   ]
  },
  {
   "cell_type": "code",
   "execution_count": 50,
   "metadata": {
    "ExecuteTime": {
     "end_time": "2021-04-16T07:19:24.548118Z",
     "start_time": "2021-04-16T07:19:24.533160Z"
    }
   },
   "outputs": [
    {
     "data": {
      "text/plain": [
       "['q', 'v', 's', 'a', '1', '2', '3', '_']"
      ]
     },
     "execution_count": 50,
     "metadata": {},
     "output_type": "execute_result"
    }
   ],
   "source": [
    "re.findall(r'\\w','qvsa123*_!')"
   ]
  },
  {
   "cell_type": "markdown",
   "metadata": {},
   "source": [
    "## 表示边界的方法"
   ]
  },
  {
   "cell_type": "markdown",
   "metadata": {},
   "source": [
    "### \\A表示匹配字符串开头，它和‘^’的区别是，即使是M模式，他也不会匹配其他的行首"
   ]
  },
  {
   "cell_type": "code",
   "execution_count": 51,
   "metadata": {
    "ExecuteTime": {
     "end_time": "2021-04-16T07:19:24.563078Z",
     "start_time": "2021-04-16T07:19:24.549117Z"
    }
   },
   "outputs": [
    {
     "name": "stdout",
     "output_type": "stream",
     "text": [
      "12 34\n",
      "56 78\n",
      "90\n"
     ]
    }
   ],
   "source": [
    "s = '12 34\\n56 78\\n90'\n",
    "print(s)"
   ]
  },
  {
   "cell_type": "code",
   "execution_count": 52,
   "metadata": {
    "ExecuteTime": {
     "end_time": "2021-04-16T07:19:24.579069Z",
     "start_time": "2021-04-16T07:19:24.564076Z"
    }
   },
   "outputs": [
    {
     "data": {
      "text/plain": [
       "['12']"
      ]
     },
     "execution_count": 52,
     "metadata": {},
     "output_type": "execute_result"
    }
   ],
   "source": [
    "re.findall(r'\\A\\d+',s,re.M) #匹配位于字符串开头的数字，/A表示匹配字符串开头"
   ]
  },
  {
   "cell_type": "markdown",
   "metadata": {},
   "source": [
    "### \"^\"表示匹配字符串的开头，在M模式中，表示匹配每行开头"
   ]
  },
  {
   "cell_type": "code",
   "execution_count": 53,
   "metadata": {},
   "outputs": [
    {
     "data": {
      "text/plain": [
       "['12', '56', '90']"
      ]
     },
     "execution_count": 53,
     "metadata": {},
     "output_type": "execute_result"
    }
   ],
   "source": [
    "re.findall(r'^\\d+',s,re.M)#当‘^’开启多行模式时，可以用于匹配多行开头"
   ]
  },
  {
   "cell_type": "markdown",
   "metadata": {
    "ExecuteTime": {
     "end_time": "2021-04-16T06:37:54.968010Z",
     "start_time": "2021-04-16T06:37:54.951183Z"
    }
   },
   "source": [
    "### \\Z表示匹配字符串结尾，它和‘$’的区别是，即使是M模式，他也不会匹配其他的行尾"
   ]
  },
  {
   "cell_type": "code",
   "execution_count": 54,
   "metadata": {
    "ExecuteTime": {
     "end_time": "2021-04-16T07:19:24.595026Z",
     "start_time": "2021-04-16T07:19:24.580065Z"
    }
   },
   "outputs": [
    {
     "data": {
      "text/plain": [
       "['90']"
      ]
     },
     "execution_count": 54,
     "metadata": {},
     "output_type": "execute_result"
    }
   ],
   "source": [
    "re.findall(r'\\d+\\Z',s,re.M) #匹配位于字符串末尾的数字/Z表示匹配字符串结尾"
   ]
  },
  {
   "cell_type": "markdown",
   "metadata": {},
   "source": [
    "### \"$\"表示匹配字符串的结尾，在M模式中，表示匹配每行结尾"
   ]
  },
  {
   "cell_type": "code",
   "execution_count": 55,
   "metadata": {
    "ExecuteTime": {
     "end_time": "2021-04-16T07:19:24.626941Z",
     "start_time": "2021-04-16T07:19:24.614940Z"
    }
   },
   "outputs": [
    {
     "data": {
      "text/plain": [
       "['34', '78', '90']"
      ]
     },
     "execution_count": 55,
     "metadata": {},
     "output_type": "execute_result"
    }
   ],
   "source": [
    "re.findall(r'\\d+$',s,re.M) #在正则中^表示匹配所有位于行首的数字"
   ]
  },
  {
   "cell_type": "markdown",
   "metadata": {},
   "source": [
    "### \\s表示匹配空格间隔符、制表符、和回车符等表示分隔意义的字符，\n",
    "\n",
    "他等价与[ \\t\\r\\n\\f\\v].(注意最前面有一个空格）,\n",
    "\n",
    "\\S表示匹配非间隔符"
   ]
  },
  {
   "cell_type": "code",
   "execution_count": 56,
   "metadata": {
    "ExecuteTime": {
     "end_time": "2021-04-16T07:19:24.642865Z",
     "start_time": "2021-04-16T07:19:24.628902Z"
    }
   },
   "outputs": [
    {
     "data": {
      "text/plain": [
       "['\\tbc ', ' bc ']"
      ]
     },
     "execution_count": 56,
     "metadata": {},
     "output_type": "execute_result"
    }
   ],
   "source": [
    "s= 'ab\\n\\tbc  bc \\tabc'\n",
    "re.findall(r'\\sbc\\s',s)#有空格"
   ]
  },
  {
   "cell_type": "markdown",
   "metadata": {},
   "source": [
    "### \\b  匹配一个空的字符串\n",
    "\\D表示匹配非空格"
   ]
  },
  {
   "cell_type": "code",
   "execution_count": 57,
   "metadata": {
    "ExecuteTime": {
     "end_time": "2021-04-16T07:19:24.657856Z",
     "start_time": "2021-04-16T07:19:24.643864Z"
    }
   },
   "outputs": [
    {
     "data": {
      "text/plain": [
       "['bc', 'bc']"
      ]
     },
     "execution_count": 57,
     "metadata": {},
     "output_type": "execute_result"
    }
   ],
   "source": [
    "s= 'ab\\n\\tbc  bc \\tabc234   bc121421'\n",
    "re.findall(r'\\bbc\\b',s)#相比于/s，他不会取到匹配的空格"
   ]
  },
  {
   "cell_type": "code",
   "execution_count": 58,
   "metadata": {
    "ExecuteTime": {
     "end_time": "2021-04-16T07:19:24.672817Z",
     "start_time": "2021-04-16T07:19:24.658822Z"
    }
   },
   "outputs": [
    {
     "data": {
      "text/plain": [
       "['bc234']"
      ]
     },
     "execution_count": 58,
     "metadata": {},
     "output_type": "execute_result"
    }
   ],
   "source": [
    "re.findall(r'\\Bbc\\w+',s)#b表示匹配不以bc开头，但后面超过一个字母的单词"
   ]
  },
  {
   "cell_type": "code",
   "execution_count": 59,
   "metadata": {
    "ExecuteTime": {
     "end_time": "2021-04-16T07:19:24.687745Z",
     "start_time": "2021-04-16T07:19:24.673782Z"
    }
   },
   "outputs": [
    {
     "data": {
      "text/plain": [
       "['bc121421']"
      ]
     },
     "execution_count": 59,
     "metadata": {},
     "output_type": "execute_result"
    }
   ],
   "source": [
    "re.findall(r'\\bbc\\w+',s)"
   ]
  },
  {
   "cell_type": "markdown",
   "metadata": {},
   "source": [
    "### (?:)表示无捕获组，其主要是用于说明边界\n",
    "可以将一部分规则作为一个整体对他进行操作，"
   ]
  },
  {
   "cell_type": "code",
   "execution_count": 60,
   "metadata": {
    "ExecuteTime": {
     "end_time": "2021-04-16T07:19:24.703703Z",
     "start_time": "2021-04-16T07:19:24.690737Z"
    }
   },
   "outputs": [
    {
     "data": {
      "text/plain": [
       "['ab']"
      ]
     },
     "execution_count": 60,
     "metadata": {},
     "output_type": "execute_result"
    }
   ],
   "source": [
    "re.findall(r'\\b(ab)+\\b',s)#如果只用括号，那么这就成为了一个组，这里捕获的是ababab，但是输出的仅仅是ab"
   ]
  },
  {
   "cell_type": "code",
   "execution_count": 61,
   "metadata": {
    "ExecuteTime": {
     "end_time": "2021-04-16T07:19:24.718662Z",
     "start_time": "2021-04-16T07:19:24.704700Z"
    }
   },
   "outputs": [
    {
     "data": {
      "text/plain": [
       "['ababab']"
      ]
     },
     "execution_count": 61,
     "metadata": {},
     "output_type": "execute_result"
    }
   ],
   "source": [
    "s = 'ababab abbabb aabaab'\n",
    "re.findall(r'\\b(?:ab)+\\b',s)# 表示无捕获组的用法,()仅仅表示是边界的意思"
   ]
  },
  {
   "cell_type": "code",
   "execution_count": 62,
   "metadata": {
    "ExecuteTime": {
     "end_time": "2021-04-16T07:19:24.734620Z",
     "start_time": "2021-04-16T07:19:24.719660Z"
    }
   },
   "outputs": [],
   "source": [
    "s = 'i have a dog, i have a cat'"
   ]
  },
  {
   "cell_type": "code",
   "execution_count": 63,
   "metadata": {
    "ExecuteTime": {
     "end_time": "2021-04-16T07:19:24.749580Z",
     "start_time": "2021-04-16T07:19:24.735617Z"
    }
   },
   "outputs": [
    {
     "data": {
      "text/plain": [
       "['i have a dog', 'cat']"
      ]
     },
     "execution_count": 63,
     "metadata": {},
     "output_type": "execute_result"
    }
   ],
   "source": [
    "re.findall(r'i have a dog|cat',s)"
   ]
  },
  {
   "cell_type": "code",
   "execution_count": 64,
   "metadata": {
    "ExecuteTime": {
     "end_time": "2021-04-16T07:19:24.764539Z",
     "start_time": "2021-04-16T07:19:24.750577Z"
    }
   },
   "outputs": [
    {
     "data": {
      "text/plain": [
       "['i have a dog', 'i have a cat']"
      ]
     },
     "execution_count": 64,
     "metadata": {},
     "output_type": "execute_result"
    }
   ],
   "source": [
    "re.findall(r'i have a (?:dog|cat)',s) #其中(?:)表示无捕获组"
   ]
  },
  {
   "cell_type": "markdown",
   "metadata": {},
   "source": [
    "### 前向界定和后向界定\n",
    "(?<=...)为前向界定表达式，(?=...)为后向界定的表达式，其中(...)为正则表达式中间内容"
   ]
  },
  {
   "cell_type": "markdown",
   "metadata": {},
   "source": [
    "前向界定和后向界定其实是/b和/s的升级版"
   ]
  },
  {
   "cell_type": "code",
   "execution_count": 179,
   "metadata": {
    "ExecuteTime": {
     "end_time": "2021-04-16T07:19:25.016229Z",
     "start_time": "2021-04-16T07:19:25.002266Z"
    }
   },
   "outputs": [],
   "source": [
    "s = r'/*part1*/code/*part2*/'"
   ]
  },
  {
   "cell_type": "code",
   "execution_count": 180,
   "metadata": {
    "ExecuteTime": {
     "end_time": "2021-04-16T07:19:24.794821Z",
     "start_time": "2021-04-16T07:19:24.780497Z"
    }
   },
   "outputs": [
    {
     "data": {
      "text/plain": [
       "['part1', 'part2']"
      ]
     },
     "execution_count": 180,
     "metadata": {},
     "output_type": "execute_result"
    }
   ],
   "source": [
    "re.findall(r'(?<=/\\*).+?(?=\\*/)',s)"
   ]
  },
  {
   "cell_type": "code",
   "execution_count": 67,
   "metadata": {
    "ExecuteTime": {
     "end_time": "2021-04-16T07:19:24.810779Z",
     "start_time": "2021-04-16T07:19:24.795820Z"
    }
   },
   "outputs": [],
   "source": [
    "s = 'aaa1111aaa,bbb222,333ccc'\n",
    "# re.findall(r'(?<=[a-z]+)\\d+(?=[a-z]+)' ,s)  #前向界定的表达式必须是常值，，即不可以在前向界定的括号内写正则表达式"
   ]
  },
  {
   "cell_type": "code",
   "execution_count": 68,
   "metadata": {
    "ExecuteTime": {
     "end_time": "2021-04-16T07:19:24.826736Z",
     "start_time": "2021-04-16T07:19:24.811777Z"
    }
   },
   "outputs": [
    {
     "data": {
      "text/plain": [
       "['1111', '333']"
      ]
     },
     "execution_count": 68,
     "metadata": {},
     "output_type": "execute_result"
    }
   ],
   "source": [
    "re.findall(r'\\d+(?=[a-z]+)',s)  # 虽然在前向界定的括号内不能写正则表达式，但是在后向界定的括号内可以写正则表达式"
   ]
  },
  {
   "cell_type": "code",
   "execution_count": 69,
   "metadata": {
    "ExecuteTime": {
     "end_time": "2021-04-16T07:19:24.842724Z",
     "start_time": "2021-04-16T07:19:24.827733Z"
    }
   },
   "outputs": [
    {
     "data": {
      "text/plain": [
       "['1111']"
      ]
     },
     "execution_count": 69,
     "metadata": {},
     "output_type": "execute_result"
    }
   ],
   "source": [
    "re.findall(r'[a-z]+(\\d+)[a-z]+',s) #如果非要匹配夹在字母之间的数字，可以用组的概念来完成。"
   ]
  },
  {
   "cell_type": "markdown",
   "metadata": {},
   "source": [
    "### 前向非界定和后向非界定\n",
    "表达式分别为（？<！..）和（？！..）"
   ]
  },
  {
   "cell_type": "code",
   "execution_count": 70,
   "metadata": {
    "ExecuteTime": {
     "end_time": "2021-04-16T07:19:24.858651Z",
     "start_time": "2021-04-16T07:19:24.843690Z"
    }
   },
   "outputs": [
    {
     "data": {
      "text/plain": [
       "'aaa1111aaa,bbb222,333ccc'"
      ]
     },
     "execution_count": 70,
     "metadata": {},
     "output_type": "execute_result"
    }
   ],
   "source": [
    "s"
   ]
  },
  {
   "cell_type": "code",
   "execution_count": 71,
   "metadata": {
    "ExecuteTime": {
     "end_time": "2021-04-16T07:19:24.874641Z",
     "start_time": "2021-04-16T07:19:24.859648Z"
    }
   },
   "outputs": [
    {
     "data": {
      "text/plain": [
       "['222']"
      ]
     },
     "execution_count": 71,
     "metadata": {},
     "output_type": "execute_result"
    }
   ],
   "source": [
    "re.findall(r'\\d+(?!\\w+)',s)  #主要用于匹配后面不跟着字母的数字"
   ]
  },
  {
   "cell_type": "code",
   "execution_count": 72,
   "metadata": {
    "ExecuteTime": {
     "end_time": "2021-04-16T07:19:24.890567Z",
     "start_time": "2021-04-16T07:19:24.875605Z"
    }
   },
   "outputs": [
    {
     "data": {
      "text/plain": [
       "['1111', '22', '333']"
      ]
     },
     "execution_count": 72,
     "metadata": {},
     "output_type": "execute_result"
    }
   ],
   "source": [
    "re.findall(r'\\d+(?=\\w+)',s) #主要用于匹配数字，数字后面跟着字母或者数字"
   ]
  },
  {
   "cell_type": "code",
   "execution_count": 73,
   "metadata": {
    "ExecuteTime": {
     "end_time": "2021-04-16T07:19:24.906554Z",
     "start_time": "2021-04-16T07:19:24.891563Z"
    }
   },
   "outputs": [
    {
     "data": {
      "text/plain": [
       "['111', '222', '33']"
      ]
     },
     "execution_count": 73,
     "metadata": {},
     "output_type": "execute_result"
    }
   ],
   "source": [
    "re.findall(r'\\d+(?![a-z]+)',s) #主要用于匹配数字，数字后面不能跟着字母！"
   ]
  },
  {
   "cell_type": "markdown",
   "metadata": {},
   "source": [
    "# 重复的表示方法"
   ]
  },
  {
   "cell_type": "markdown",
   "metadata": {},
   "source": [
    "##  ‘？’表示0次或者1次，‘*’表示0次或者多次，‘+’表示1次或者多次"
   ]
  },
  {
   "cell_type": "code",
   "execution_count": 74,
   "metadata": {
    "ExecuteTime": {
     "end_time": "2021-04-16T07:19:24.922480Z",
     "start_time": "2021-04-16T07:19:24.907521Z"
    }
   },
   "outputs": [
    {
     "data": {
      "text/plain": [
       "['qq', 'ss1']"
      ]
     },
     "execution_count": 74,
     "metadata": {},
     "output_type": "execute_result"
    }
   ],
   "source": [
    "s = ' qq ss1 '\n",
    "re.findall(r'\\w+\\d?',s)"
   ]
  },
  {
   "cell_type": "code",
   "execution_count": 75,
   "metadata": {
    "ExecuteTime": {
     "end_time": "2021-04-16T07:19:24.938438Z",
     "start_time": "2021-04-16T07:19:24.923477Z"
    }
   },
   "outputs": [],
   "source": [
    "s = 'aaa bbb111 cc22cc 33dd   1fff1'"
   ]
  },
  {
   "cell_type": "code",
   "execution_count": 76,
   "metadata": {
    "ExecuteTime": {
     "end_time": "2021-04-16T07:19:24.954396Z",
     "start_time": "2021-04-16T07:19:24.939436Z"
    }
   },
   "outputs": [
    {
     "data": {
      "text/plain": [
       "['aaa', 'bbb111', 'cc22', 'cc', 'dd', 'fff1']"
      ]
     },
     "execution_count": 76,
     "metadata": {},
     "output_type": "execute_result"
    }
   ],
   "source": [
    "re.findall(r'[a-z]+\\d*',s) #如果没有边界指示符\\b，则单词就被拆开了"
   ]
  },
  {
   "cell_type": "code",
   "execution_count": 77,
   "metadata": {
    "ExecuteTime": {
     "end_time": "2021-04-16T07:19:24.970352Z",
     "start_time": "2021-04-16T07:19:24.955392Z"
    }
   },
   "outputs": [
    {
     "data": {
      "text/plain": [
       "['aaa', 'bbb111']"
      ]
     },
     "execution_count": 77,
     "metadata": {},
     "output_type": "execute_result"
    }
   ],
   "source": [
    "re.findall(r'\\b[a-z]+\\d*\\b',s) #必须以字母开头，以连续数字结尾或没有数字"
   ]
  },
  {
   "cell_type": "code",
   "execution_count": 78,
   "metadata": {
    "ExecuteTime": {
     "end_time": "2021-04-16T07:19:24.985312Z",
     "start_time": "2021-04-16T07:19:24.971351Z"
    }
   },
   "outputs": [],
   "source": [
    "s = '123 10e3 20ee4 30ee5'"
   ]
  },
  {
   "cell_type": "code",
   "execution_count": 79,
   "metadata": {
    "ExecuteTime": {
     "end_time": "2021-04-16T07:19:25.001269Z",
     "start_time": "2021-04-16T07:19:24.986309Z"
    }
   },
   "outputs": [
    {
     "data": {
      "text/plain": [
       "['123', '10e3']"
      ]
     },
     "execution_count": 79,
     "metadata": {},
     "output_type": "execute_result"
    }
   ],
   "source": [
    "re.findall(r'\\b\\d+[eE]?\\d*\\b',s)"
   ]
  },
  {
   "cell_type": "markdown",
   "metadata": {},
   "source": [
    "## '*?\",'+?','??'表示最小匹配,被称为非贪婪模式"
   ]
  },
  {
   "cell_type": "code",
   "execution_count": 181,
   "metadata": {
    "ExecuteTime": {
     "end_time": "2021-04-16T07:19:25.016229Z",
     "start_time": "2021-04-16T07:19:25.002266Z"
    }
   },
   "outputs": [],
   "source": [
    "s = r'/*part1*/code/*part2*/'"
   ]
  },
  {
   "cell_type": "code",
   "execution_count": 182,
   "metadata": {
    "ExecuteTime": {
     "end_time": "2021-04-16T07:19:25.032186Z",
     "start_time": "2021-04-16T07:19:25.017226Z"
    }
   },
   "outputs": [
    {
     "data": {
      "text/plain": [
       "['/*part1*/code/*part2*/']"
      ]
     },
     "execution_count": 182,
     "metadata": {},
     "output_type": "execute_result"
    }
   ],
   "source": [
    "re.findall(r'/\\*.+\\*/', s ) #在*不加？表示匹配整个字符串，在正则中\\是特使字符，/不是特殊字符"
   ]
  },
  {
   "cell_type": "code",
   "execution_count": 183,
   "metadata": {
    "ExecuteTime": {
     "end_time": "2021-04-16T07:19:25.048144Z",
     "start_time": "2021-04-16T07:19:25.033183Z"
    }
   },
   "outputs": [
    {
     "data": {
      "text/plain": [
       "['/*part1*/', '/*part2*/']"
      ]
     },
     "execution_count": 183,
     "metadata": {},
     "output_type": "execute_result"
    }
   ],
   "source": [
    "re.findall(r'/\\*.+?\\*/', s )#*后面加？，表示尽可能少的匹配内容"
   ]
  },
  {
   "cell_type": "markdown",
   "metadata": {},
   "source": [
    "## {m}表示精确匹配m次，{m，n}表示匹配最少m次，最多n次"
   ]
  },
  {
   "cell_type": "code",
   "execution_count": 184,
   "metadata": {
    "ExecuteTime": {
     "end_time": "2021-04-16T07:19:25.064132Z",
     "start_time": "2021-04-16T07:19:25.049155Z"
    }
   },
   "outputs": [],
   "source": [
    "s = '1 22 333 4444 55555 666666'"
   ]
  },
  {
   "cell_type": "code",
   "execution_count": 84,
   "metadata": {
    "ExecuteTime": {
     "end_time": "2021-04-16T07:19:25.079092Z",
     "start_time": "2021-04-16T07:19:25.065098Z"
    }
   },
   "outputs": [
    {
     "data": {
      "text/plain": [
       "['1']"
      ]
     },
     "execution_count": 84,
     "metadata": {},
     "output_type": "execute_result"
    }
   ],
   "source": [
    "re.findall(r'\\b\\d{1}\\b',s)"
   ]
  },
  {
   "cell_type": "code",
   "execution_count": 85,
   "metadata": {
    "ExecuteTime": {
     "end_time": "2021-04-16T07:19:25.094021Z",
     "start_time": "2021-04-16T07:19:25.080058Z"
    }
   },
   "outputs": [
    {
     "data": {
      "text/plain": [
       "['22']"
      ]
     },
     "execution_count": 85,
     "metadata": {},
     "output_type": "execute_result"
    }
   ],
   "source": [
    "re.findall(r'\\b\\d{2}\\b',s)"
   ]
  },
  {
   "cell_type": "code",
   "execution_count": 86,
   "metadata": {
    "ExecuteTime": {
     "end_time": "2021-04-16T07:19:25.108982Z",
     "start_time": "2021-04-16T07:19:25.095045Z"
    }
   },
   "outputs": [
    {
     "data": {
      "text/plain": [
       "['22', '333', '4444']"
      ]
     },
     "execution_count": 86,
     "metadata": {},
     "output_type": "execute_result"
    }
   ],
   "source": [
    "re.findall(r'\\b\\d{2,4}\\b',s)"
   ]
  },
  {
   "cell_type": "code",
   "execution_count": 87,
   "metadata": {
    "ExecuteTime": {
     "end_time": "2021-04-16T07:19:25.123941Z",
     "start_time": "2021-04-16T07:19:25.109980Z"
    }
   },
   "outputs": [
    {
     "data": {
      "text/plain": [
       "['55555', '666666']"
      ]
     },
     "execution_count": 87,
     "metadata": {},
     "output_type": "execute_result"
    }
   ],
   "source": [
    "re.findall(r'\\b\\d{5,}\\b',s)  #表示最少匹配5次"
   ]
  },
  {
   "cell_type": "markdown",
   "metadata": {},
   "source": [
    "# 组的基本知识"
   ]
  },
  {
   "cell_type": "markdown",
   "metadata": {},
   "source": [
    "## “（“”）”无命名组"
   ]
  },
  {
   "cell_type": "markdown",
   "metadata": {},
   "source": [
    "当在规则中有组存在的时候，除了无捕获组之外，只会返回组中的匹配结果"
   ]
  },
  {
   "cell_type": "code",
   "execution_count": 189,
   "metadata": {
    "ExecuteTime": {
     "end_time": "2021-04-16T07:19:25.139899Z",
     "start_time": "2021-04-16T07:19:25.124938Z"
    }
   },
   "outputs": [
    {
     "data": {
      "text/plain": [
       "'aaa111aaa,bbb222,333ccc,444ddd444,555eee666,fff777ggg'"
      ]
     },
     "execution_count": 189,
     "metadata": {},
     "output_type": "execute_result"
    }
   ],
   "source": [
    "s = 'aaa111aaa,bbb222,333ccc,444ddd444,555eee666,fff777ggg'\n",
    "s"
   ]
  },
  {
   "cell_type": "code",
   "execution_count": 188,
   "metadata": {
    "ExecuteTime": {
     "end_time": "2021-04-16T07:19:25.155856Z",
     "start_time": "2021-04-16T07:19:25.140896Z"
    }
   },
   "outputs": [
    {
     "data": {
      "text/plain": [
       "['111', '777']"
      ]
     },
     "execution_count": 188,
     "metadata": {},
     "output_type": "execute_result"
    }
   ],
   "source": [
    "re.findall(r'[a-z]+(\\d+)[a-z]+',s) #findall 函数只返回了（）中的内容，虽然前面和后面的内容都匹配成功了，但却不包含在"
   ]
  },
  {
   "cell_type": "code",
   "execution_count": 90,
   "metadata": {
    "ExecuteTime": {
     "end_time": "2021-04-16T07:19:25.171813Z",
     "start_time": "2021-04-16T07:19:25.156853Z"
    }
   },
   "outputs": [],
   "source": [
    "s = 'aaa111aaa,bbb222,333ccc,444ddd444,555eee666,fff777ggg'"
   ]
  },
  {
   "cell_type": "code",
   "execution_count": 91,
   "metadata": {
    "ExecuteTime": {
     "end_time": "2021-04-16T07:19:25.187771Z",
     "start_time": "2021-04-16T07:19:25.172812Z"
    }
   },
   "outputs": [
    {
     "data": {
      "text/plain": [
       "[('aaa', 'aaa'), ('fff', 'ggg')]"
      ]
     },
     "execution_count": 91,
     "metadata": {},
     "output_type": "execute_result"
    }
   ],
   "source": [
    "re.findall(r'([a-z]+)\\d+([a-z]+)',s) #用于匹配中间夹有数字的字母，这里则返回组内的内容"
   ]
  },
  {
   "cell_type": "markdown",
   "metadata": {},
   "source": [
    "## 通过（？P\\<name\\>....）命名组，通过（？P=name）调用已经命名的组（注意这里是大P）"
   ]
  },
  {
   "cell_type": "code",
   "execution_count": 92,
   "metadata": {
    "ExecuteTime": {
     "end_time": "2021-04-16T07:19:25.203728Z",
     "start_time": "2021-04-16T07:19:25.188769Z"
    }
   },
   "outputs": [
    {
     "data": {
      "text/plain": [
       "['aaa']"
      ]
     },
     "execution_count": 92,
     "metadata": {},
     "output_type": "execute_result"
    }
   ],
   "source": [
    "re.findall(r'(?P<gl>[a-z]+)\\d+(?P=gl)',s)  #用于匹配中间夹有数字且前后字母相同的字母"
   ]
  },
  {
   "cell_type": "code",
   "execution_count": 93,
   "metadata": {
    "ExecuteTime": {
     "end_time": "2021-04-16T07:19:25.218687Z",
     "start_time": "2021-04-16T07:19:25.204725Z"
    }
   },
   "outputs": [
    {
     "data": {
      "text/plain": [
       "'aaa111aaa,bbb222,333ccc,444ddd444,555eee666,fff777ggg'"
      ]
     },
     "execution_count": 93,
     "metadata": {},
     "output_type": "execute_result"
    }
   ],
   "source": [
    "s"
   ]
  },
  {
   "cell_type": "code",
   "execution_count": 94,
   "metadata": {
    "ExecuteTime": {
     "end_time": "2021-04-16T07:19:25.234645Z",
     "start_time": "2021-04-16T07:19:25.219685Z"
    }
   },
   "outputs": [
    {
     "data": {
      "text/plain": [
       "[('111', 'aaa'), ('777', 'ggg')]"
      ]
     },
     "execution_count": 94,
     "metadata": {},
     "output_type": "execute_result"
    }
   ],
   "source": [
    "re.findall(r'[a-z]+(\\d+)([a-z]+)',s) #用于匹配前面有数字引导，中间是数字，后面书字母的字符串的中间的数字的后面的字母"
   ]
  },
  {
   "cell_type": "markdown",
   "metadata": {},
   "source": [
    "## \\number 通过序号调用已经匹配的组"
   ]
  },
  {
   "cell_type": "markdown",
   "metadata": {},
   "source": [
    "正则中的每一个组都有一个编号，数字是从1开始的"
   ]
  },
  {
   "cell_type": "code",
   "execution_count": 190,
   "metadata": {
    "ExecuteTime": {
     "end_time": "2021-04-16T07:19:25.249606Z",
     "start_time": "2021-04-16T07:19:25.235642Z"
    }
   },
   "outputs": [
    {
     "data": {
      "text/plain": [
       "'aaa111aaa,bbb222,333ccc,444ddd444,555eee666,fff777ggg'"
      ]
     },
     "execution_count": 190,
     "metadata": {},
     "output_type": "execute_result"
    }
   ],
   "source": [
    "s"
   ]
  },
  {
   "cell_type": "code",
   "execution_count": 194,
   "metadata": {
    "ExecuteTime": {
     "end_time": "2021-04-16T07:19:25.265563Z",
     "start_time": "2021-04-16T07:19:25.250603Z"
    }
   },
   "outputs": [
    {
     "data": {
      "text/plain": [
       "['aaa']"
      ]
     },
     "execution_count": 194,
     "metadata": {},
     "output_type": "execute_result"
    }
   ],
   "source": [
    "re.findall(r'([a-z]+)\\d+\\1',s)"
   ]
  },
  {
   "cell_type": "code",
   "execution_count": 97,
   "metadata": {
    "ExecuteTime": {
     "end_time": "2021-04-16T07:19:25.281520Z",
     "start_time": "2021-04-16T07:19:25.266561Z"
    }
   },
   "outputs": [],
   "source": [
    "s = '111aaa222aaa111,333bbb444bb33'"
   ]
  },
  {
   "cell_type": "code",
   "execution_count": 98,
   "metadata": {
    "ExecuteTime": {
     "end_time": "2021-04-16T07:19:25.296479Z",
     "start_time": "2021-04-16T07:19:25.283515Z"
    }
   },
   "outputs": [
    {
     "data": {
      "text/plain": [
       "[('111', 'aaa', '222')]"
      ]
     },
     "execution_count": 98,
     "metadata": {},
     "output_type": "execute_result"
    }
   ],
   "source": [
    "re.findall(r'(\\d+)([a-z]+)(\\d+)\\2\\1',s) "
   ]
  },
  {
   "cell_type": "code",
   "execution_count": 99,
   "metadata": {
    "ExecuteTime": {
     "end_time": "2021-04-16T07:19:25.312438Z",
     "start_time": "2021-04-16T07:19:25.297477Z"
    }
   },
   "outputs": [
    {
     "data": {
      "text/plain": [
       "[('111', 'aaa', '222', 'aaa', '111')]"
      ]
     },
     "execution_count": 99,
     "metadata": {},
     "output_type": "execute_result"
    }
   ],
   "source": [
    "re.findall(r'(\\d+)([a-z]+)(\\d+)(\\2)(\\1)',s) #找出完全对称的数字-字母-数字-字母-数字"
   ]
  },
  {
   "cell_type": "markdown",
   "metadata": {},
   "source": [
    "# re模块函数功能汇总"
   ]
  },
  {
   "cell_type": "markdown",
   "metadata": {},
   "source": [
    "## 各种规则选项\n",
    "L local的意思，表示字符集本地化，这个功能是为了支持多语言版本的字符集使用环境的，比如在转义符\\w，在英文环境下，它代表[a-zA-Z0-9]，即所以英文字符和数字。如果在一个法语环境下使用，缺省设置下，不能匹配\"é\" 或 \"ç\"。加上这L选项和就可以匹配了"
   ]
  },
  {
   "cell_type": "markdown",
   "metadata": {},
   "source": [
    "M multiline的意思，在这个模式下’^’(代表字符串开头)和’$’(代表字符串结尾)将能够匹配多行的情况，成为行首和行尾标记。"
   ]
  },
  {
   "cell_type": "markdown",
   "metadata": {},
   "source": [
    "### IGNORECASE\n",
    "\n",
    "在正则中一共有九个常量，第一个常量是re.IGNORECASE,简称为re.I,表示忽略大小写"
   ]
  },
  {
   "cell_type": "code",
   "execution_count": 197,
   "metadata": {
    "ExecuteTime": {
     "end_time": "2021-04-16T07:19:25.327397Z",
     "start_time": "2021-04-16T07:19:25.321413Z"
    }
   },
   "outputs": [
    {
     "data": {
      "text/plain": [
       "[]"
      ]
     },
     "execution_count": 197,
     "metadata": {},
     "output_type": "execute_result"
    }
   ],
   "source": [
    "text= '诸葛大帅B'\n",
    "rule = '诸葛大帅b'\n",
    "re.findall(rule,text)"
   ]
  },
  {
   "cell_type": "code",
   "execution_count": 101,
   "metadata": {
    "ExecuteTime": {
     "end_time": "2021-04-16T07:19:25.343354Z",
     "start_time": "2021-04-16T07:19:25.330422Z"
    }
   },
   "outputs": [
    {
     "data": {
      "text/plain": [
       "['诸葛大帅B']"
      ]
     },
     "execution_count": 101,
     "metadata": {},
     "output_type": "execute_result"
    }
   ],
   "source": [
    "re.findall(rule,text,re.I) #当开启忽略大小写模式后，默认B与b相同"
   ]
  },
  {
   "cell_type": "markdown",
   "metadata": {},
   "source": [
    "### ASCII方式，\n",
    "\n",
    "简写为re.A,ASCII表示ASCII码的意思，让 \\w, \\W, \\b, \\B, \\d, \\D, \\s 和 \\S 只匹配ASCII，而不是Unicode"
   ]
  },
  {
   "cell_type": "code",
   "execution_count": 102,
   "metadata": {
    "ExecuteTime": {
     "end_time": "2021-04-16T07:19:25.358760Z",
     "start_time": "2021-04-16T07:19:25.344352Z"
    }
   },
   "outputs": [
    {
     "data": {
      "text/plain": [
       "['a诸葛b最帅c']"
      ]
     },
     "execution_count": 102,
     "metadata": {},
     "output_type": "execute_result"
    }
   ],
   "source": [
    "text = 'a诸葛b最帅c'\n",
    "rule = r'\\w+'\n",
    "re.findall(rule,text)"
   ]
  },
  {
   "cell_type": "code",
   "execution_count": 103,
   "metadata": {
    "ExecuteTime": {
     "end_time": "2021-04-16T07:19:25.374742Z",
     "start_time": "2021-04-16T07:19:25.359755Z"
    }
   },
   "outputs": [
    {
     "data": {
      "text/plain": [
       "['a', 'b', 'c']"
      ]
     },
     "execution_count": 103,
     "metadata": {},
     "output_type": "execute_result"
    }
   ],
   "source": [
    "re.findall(rule,text,re.A)#当开启ASCII后，默认只会匹配ASCII中的字母"
   ]
  },
  {
   "cell_type": "markdown",
   "metadata": {},
   "source": [
    "### DOTALL模式    \n",
    "\n",
    "DOT表示.，ALL表示所有，连起来就是.匹配所有，包括换行符\\n。默认模式下.是不能匹配行符\\n的。"
   ]
  },
  {
   "cell_type": "code",
   "execution_count": 198,
   "metadata": {
    "ExecuteTime": {
     "end_time": "2021-04-16T07:19:25.390672Z",
     "start_time": "2021-04-16T07:19:25.375713Z"
    }
   },
   "outputs": [
    {
     "data": {
      "text/plain": [
       "['诸葛', '最帅']"
      ]
     },
     "execution_count": 198,
     "metadata": {},
     "output_type": "execute_result"
    }
   ],
   "source": [
    "text = '诸葛\\n最帅'\n",
    "rule = r'.+'\n",
    "re.findall(rule,text)"
   ]
  },
  {
   "cell_type": "code",
   "execution_count": 199,
   "metadata": {
    "ExecuteTime": {
     "end_time": "2021-04-16T07:19:25.406629Z",
     "start_time": "2021-04-16T07:19:25.391675Z"
    }
   },
   "outputs": [
    {
     "data": {
      "text/plain": [
       "['诸葛\\n最帅']"
      ]
     },
     "execution_count": 199,
     "metadata": {},
     "output_type": "execute_result"
    }
   ],
   "source": [
    "re.findall(rule,text,re.S) #当开启DOTALL模式后，\\n可以被匹配"
   ]
  },
  {
   "cell_type": "markdown",
   "metadata": {},
   "source": [
    "### MULTILINE模式（多行模式）      \n",
    "\n",
    "语法： re.MULTILINE 或简写为 re.M ，多行模式，当某字符串中有换行符\\n，默认模式下是不支持换行符特性的，比如：行开头 和 行结尾，而多行模式下是支持匹配行开头的。"
   ]
  },
  {
   "cell_type": "code",
   "execution_count": 106,
   "metadata": {
    "ExecuteTime": {
     "end_time": "2021-04-16T07:19:25.422586Z",
     "start_time": "2021-04-16T07:19:25.407627Z"
    }
   },
   "outputs": [
    {
     "data": {
      "text/plain": [
       "[]"
      ]
     },
     "execution_count": 106,
     "metadata": {},
     "output_type": "execute_result"
    }
   ],
   "source": [
    "text = '诸葛\\n最帅'\n",
    "rule = r'^最帅'\n",
    "re.findall(rule,text)"
   ]
  },
  {
   "cell_type": "code",
   "execution_count": 107,
   "metadata": {
    "ExecuteTime": {
     "end_time": "2021-04-16T07:19:25.438543Z",
     "start_time": "2021-04-16T07:19:25.423585Z"
    }
   },
   "outputs": [
    {
     "data": {
      "text/plain": [
       "['最帅']"
      ]
     },
     "execution_count": 107,
     "metadata": {},
     "output_type": "execute_result"
    }
   ],
   "source": [
    "re.findall(rule,text,re.M) #当开启多行模式后，^就可以匹配第二行的字符，而不仅仅是字符串开头了"
   ]
  },
  {
   "cell_type": "markdown",
   "metadata": {},
   "source": [
    "### VERBOSE \n",
    "\n",
    "\n",
    "语法：re.VERBOSE 或简写为 re.X\n",
    "\n",
    "作用：详细模式，可以在正则表达式中加注解"
   ]
  },
  {
   "cell_type": "code",
   "execution_count": 200,
   "metadata": {
    "ExecuteTime": {
     "end_time": "2021-04-16T07:19:25.454501Z",
     "start_time": "2021-04-16T07:19:25.439541Z"
    }
   },
   "outputs": [
    {
     "data": {
      "text/plain": [
       "[]"
      ]
     },
     "execution_count": 200,
     "metadata": {},
     "output_type": "execute_result"
    }
   ],
   "source": [
    "text = '诸葛最帅v不能'\n",
    "rule = r\"\"\"\n",
    "            诸葛   #人物\n",
    "            最帅   #形容词\n",
    "        \"\"\"\n",
    "re.findall(rule,text)"
   ]
  },
  {
   "cell_type": "code",
   "execution_count": 201,
   "metadata": {
    "ExecuteTime": {
     "end_time": "2021-04-16T07:19:25.469492Z",
     "start_time": "2021-04-16T07:19:25.455499Z"
    }
   },
   "outputs": [
    {
     "data": {
      "text/plain": [
       "['诸葛最帅']"
      ]
     },
     "execution_count": 201,
     "metadata": {},
     "output_type": "execute_result"
    }
   ],
   "source": [
    "re.findall(rule,text,re.X)  #开启这个模式后，可以在规则中添加注解使规则更清楚"
   ]
  },
  {
   "cell_type": "markdown",
   "metadata": {},
   "source": [
    "### UNICODE"
   ]
  },
  {
   "cell_type": "markdown",
   "metadata": {},
   "source": [
    "语法： re.UNICODE 或简写为 re.U\n",
    "\n",
    "作用： 与 ASCII 模式类似，匹配unicode编码支持的字符，但是 Python 3 默认字符串已经是Unicode，所以有点冗余。"
   ]
  },
  {
   "cell_type": "markdown",
   "metadata": {},
   "source": [
    "### 其他模式\n",
    "\n",
    "不是很重要，随便看看"
   ]
  },
  {
   "cell_type": "code",
   "execution_count": 110,
   "metadata": {
    "ExecuteTime": {
     "end_time": "2021-04-16T07:19:25.484455Z",
     "start_time": "2021-04-16T07:19:25.470459Z"
    }
   },
   "outputs": [
    {
     "name": "stdout",
     "output_type": "stream",
     "text": [
      "123 456\n",
      "789 012\n",
      "345 678\n"
     ]
    }
   ],
   "source": [
    "s = '123 456\\n789 012\\n345 678'\n",
    "print(s)"
   ]
  },
  {
   "cell_type": "code",
   "execution_count": 111,
   "metadata": {
    "ExecuteTime": {
     "end_time": "2021-04-16T07:19:25.499381Z",
     "start_time": "2021-04-16T07:19:25.485421Z"
    }
   },
   "outputs": [],
   "source": [
    "rc = re.compile(r'^\\d+')"
   ]
  },
  {
   "cell_type": "code",
   "execution_count": 112,
   "metadata": {
    "ExecuteTime": {
     "end_time": "2021-04-16T07:19:25.515369Z",
     "start_time": "2021-04-16T07:19:25.500378Z"
    }
   },
   "outputs": [
    {
     "data": {
      "text/plain": [
       "['123']"
      ]
     },
     "execution_count": 112,
     "metadata": {},
     "output_type": "execute_result"
    }
   ],
   "source": [
    "rc.findall(s)# 当不使用M选项时，仅匹配字符串开头的数字"
   ]
  },
  {
   "cell_type": "code",
   "execution_count": 113,
   "metadata": {
    "ExecuteTime": {
     "end_time": "2021-04-16T07:19:25.531398Z",
     "start_time": "2021-04-16T07:19:25.516336Z"
    }
   },
   "outputs": [],
   "source": [
    "rcm = re.compile(r'^\\d+',re.M)"
   ]
  },
  {
   "cell_type": "code",
   "execution_count": 114,
   "metadata": {
    "ExecuteTime": {
     "end_time": "2021-04-16T07:19:25.547388Z",
     "start_time": "2021-04-16T07:19:25.533393Z"
    }
   },
   "outputs": [
    {
     "data": {
      "text/plain": [
       "['123', '789', '345']"
      ]
     },
     "execution_count": 114,
     "metadata": {},
     "output_type": "execute_result"
    }
   ],
   "source": [
    "rcm.findall(s) #当使用M选项时，可以找到三个行首的数字"
   ]
  },
  {
   "cell_type": "code",
   "execution_count": 115,
   "metadata": {
    "ExecuteTime": {
     "end_time": "2021-04-16T07:19:25.563339Z",
     "start_time": "2021-04-16T07:19:25.548355Z"
    }
   },
   "outputs": [],
   "source": [
    "rc =re.compile(r'\\d+$')"
   ]
  },
  {
   "cell_type": "code",
   "execution_count": 116,
   "metadata": {
    "ExecuteTime": {
     "end_time": "2021-04-16T07:19:25.579304Z",
     "start_time": "2021-04-16T07:19:25.564312Z"
    }
   },
   "outputs": [],
   "source": [
    "rcm  = re.compile(r'\\d+$',re.M)"
   ]
  },
  {
   "cell_type": "code",
   "execution_count": 117,
   "metadata": {
    "ExecuteTime": {
     "end_time": "2021-04-16T07:19:25.595228Z",
     "start_time": "2021-04-16T07:19:25.580269Z"
    }
   },
   "outputs": [
    {
     "name": "stdout",
     "output_type": "stream",
     "text": [
      "123 456\n",
      "789 012\n",
      "345 678\n"
     ]
    }
   ],
   "source": [
    "print(s)"
   ]
  },
  {
   "cell_type": "code",
   "execution_count": 118,
   "metadata": {
    "ExecuteTime": {
     "end_time": "2021-04-16T07:19:25.611218Z",
     "start_time": "2021-04-16T07:19:25.596226Z"
    }
   },
   "outputs": [
    {
     "data": {
      "text/plain": [
       "['678']"
      ]
     },
     "execution_count": 118,
     "metadata": {},
     "output_type": "execute_result"
    }
   ],
   "source": [
    "rc.findall(s) #对于$,没有启动M选项时，他将匹配最后一行的数字"
   ]
  },
  {
   "cell_type": "code",
   "execution_count": 119,
   "metadata": {
    "ExecuteTime": {
     "end_time": "2021-04-16T07:19:25.627142Z",
     "start_time": "2021-04-16T07:19:25.612184Z"
    }
   },
   "outputs": [
    {
     "data": {
      "text/plain": [
       "['456', '012', '678']"
      ]
     },
     "execution_count": 119,
     "metadata": {},
     "output_type": "execute_result"
    }
   ],
   "source": [
    "rcm.findall(s) #对于$,启动M值后，他能匹配三个行尾数字"
   ]
  },
  {
   "cell_type": "markdown",
   "metadata": {},
   "source": [
    "S dotall 在省缺的情况下，‘.’能够匹配除换行符\\n外的任何字符，使用者一选项后，‘.’能够匹配包括换行符\\n的任何字符"
   ]
  },
  {
   "cell_type": "markdown",
   "metadata": {},
   "source": [
    "### 叠加使用"
   ]
  },
  {
   "cell_type": "code",
   "execution_count": 120,
   "metadata": {
    "ExecuteTime": {
     "end_time": "2021-04-16T07:19:25.643127Z",
     "start_time": "2021-04-16T07:19:25.628141Z"
    }
   },
   "outputs": [
    {
     "data": {
      "text/plain": [
       "[]"
      ]
     },
     "execution_count": 120,
     "metadata": {},
     "output_type": "execute_result"
    }
   ],
   "source": [
    "text = '诸葛\\n最帅B'\n",
    "rule = r'^最帅b'\n",
    "re.findall(rule,text)"
   ]
  },
  {
   "cell_type": "code",
   "execution_count": 121,
   "metadata": {
    "ExecuteTime": {
     "end_time": "2021-04-16T07:19:25.658092Z",
     "start_time": "2021-04-16T07:19:25.644098Z"
    }
   },
   "outputs": [
    {
     "data": {
      "text/plain": [
       "[' 456\\n', ' 012\\n']"
      ]
     },
     "execution_count": 121,
     "metadata": {},
     "output_type": "execute_result"
    }
   ],
   "source": [
    "re.findall(r'\\s\\d+\\s',s)"
   ]
  },
  {
   "cell_type": "code",
   "execution_count": 122,
   "metadata": {
    "ExecuteTime": {
     "end_time": "2021-04-16T07:19:25.673052Z",
     "start_time": "2021-04-16T07:19:25.659058Z"
    }
   },
   "outputs": [
    {
     "data": {
      "text/plain": [
       "['最帅B']"
      ]
     },
     "execution_count": 122,
     "metadata": {},
     "output_type": "execute_result"
    }
   ],
   "source": [
    "re.findall(rule,text,re.M|re.I) #通过|方法，可以将各种模式叠加使用"
   ]
  },
  {
   "cell_type": "markdown",
   "metadata": {},
   "source": [
    "## compile 加速\n",
    "compile(rule,[flag]) 将正则变异成一个pattern对象，以供接下来使用\n",
    "第一个参数是规则式，第二个参数是规则选项，返回值是一个pattern对象。"
   ]
  },
  {
   "cell_type": "code",
   "execution_count": 123,
   "metadata": {
    "ExecuteTime": {
     "end_time": "2021-04-16T07:19:25.689009Z",
     "start_time": "2021-04-16T07:19:25.674018Z"
    }
   },
   "outputs": [],
   "source": [
    "s = '111, 222 ,aaa,ccc,bbb333,4444ddd'\n",
    "rule = r'\\b\\d+\\b'"
   ]
  },
  {
   "cell_type": "code",
   "execution_count": 124,
   "metadata": {
    "ExecuteTime": {
     "end_time": "2021-04-16T07:19:25.704966Z",
     "start_time": "2021-04-16T07:19:25.689976Z"
    }
   },
   "outputs": [
    {
     "data": {
      "text/plain": [
       "['111', '222']"
      ]
     },
     "execution_count": 124,
     "metadata": {},
     "output_type": "execute_result"
    }
   ],
   "source": [
    "compile_rule = re.compile(rule)\n",
    "compile_rule.findall(s)"
   ]
  },
  {
   "cell_type": "code",
   "execution_count": 125,
   "metadata": {
    "ExecuteTime": {
     "end_time": "2021-04-16T07:19:25.720924Z",
     "start_time": "2021-04-16T07:19:25.705933Z"
    }
   },
   "outputs": [],
   "source": [
    "p = re.compile( r'(?P<word>\\b[a-z]+\\b)|(?P<num>\\b\\d+\\b)|(?P<id>\\b[a-z_]+\\w*\\b)',re.I )"
   ]
  },
  {
   "cell_type": "code",
   "execution_count": 126,
   "metadata": {
    "ExecuteTime": {
     "end_time": "2021-04-16T07:19:25.736880Z",
     "start_time": "2021-04-16T07:19:25.721890Z"
    }
   },
   "outputs": [
    {
     "data": {
      "text/plain": [
       "34"
      ]
     },
     "execution_count": 126,
     "metadata": {},
     "output_type": "execute_result"
    }
   ],
   "source": [
    "p.flags  #查询编译是的选项，这里的I选项的编号是34"
   ]
  },
  {
   "cell_type": "code",
   "execution_count": 203,
   "metadata": {},
   "outputs": [
    {
     "data": {
      "text/plain": [
       "256"
      ]
     },
     "execution_count": 203,
     "metadata": {},
     "output_type": "execute_result"
    }
   ],
   "source": [
    "p = re.compile( r'(?P<word>\\b[a-z]+\\b)|(?P<num>\\b\\d+\\b)|(?P<id>\\b[a-z_]+\\w*\\b)',re.A )\n",
    "p.flags #这里A的选项时256"
   ]
  },
  {
   "cell_type": "code",
   "execution_count": 127,
   "metadata": {
    "ExecuteTime": {
     "end_time": "2021-04-16T07:19:25.752838Z",
     "start_time": "2021-04-16T07:19:25.737847Z"
    }
   },
   "outputs": [
    {
     "data": {
      "text/plain": [
       "'(?P<word>\\\\b[a-z]+\\\\b)|(?P<num>\\\\b\\\\d+\\\\b)|(?P<id>\\\\b[a-z_]+\\\\w*\\\\b)'"
      ]
     },
     "execution_count": 127,
     "metadata": {},
     "output_type": "execute_result"
    }
   ],
   "source": [
    "p.pattern"
   ]
  },
  {
   "cell_type": "code",
   "execution_count": 128,
   "metadata": {
    "ExecuteTime": {
     "end_time": "2021-04-16T07:19:25.768798Z",
     "start_time": "2021-04-16T07:19:25.753805Z"
    }
   },
   "outputs": [
    {
     "data": {
      "text/plain": [
       "mappingproxy({'word': 1, 'num': 2, 'id': 3})"
      ]
     },
     "execution_count": 128,
     "metadata": {},
     "output_type": "execute_result"
    }
   ],
   "source": [
    "p.groupindex"
   ]
  },
  {
   "cell_type": "code",
   "execution_count": 129,
   "metadata": {
    "ExecuteTime": {
     "end_time": "2021-04-16T07:19:25.784721Z",
     "start_time": "2021-04-16T07:19:25.769763Z"
    }
   },
   "outputs": [
    {
     "data": {
      "text/plain": [
       "3"
      ]
     },
     "execution_count": 129,
     "metadata": {},
     "output_type": "execute_result"
    }
   ],
   "source": [
    "p.groups"
   ]
  },
  {
   "cell_type": "markdown",
   "metadata": {},
   "source": [
    "## 模块函数"
   ]
  },
  {
   "cell_type": "markdown",
   "metadata": {},
   "source": [
    "### 查找单个匹配项"
   ]
  },
  {
   "cell_type": "markdown",
   "metadata": {},
   "source": [
    "1、search：查找任意位置的匹配项\n",
    "\n",
    "2、match：必须从字符串开头开始匹配\n",
    "\n",
    "3、fullmatch：整个字符串与正则完全匹配"
   ]
  },
  {
   "cell_type": "code",
   "execution_count": 130,
   "metadata": {
    "ExecuteTime": {
     "end_time": "2021-04-16T07:19:25.800713Z",
     "start_time": "2021-04-16T07:19:25.785720Z"
    },
    "scrolled": true
   },
   "outputs": [
    {
     "name": "stdout",
     "output_type": "stream",
     "text": [
      "search: 诸葛大帅b\n",
      "match: None\n",
      "fullmatch: None\n"
     ]
    }
   ],
   "source": [
    "s = 'a诸葛大帅b，诸葛大帅b'\n",
    "patter = r'诸葛大帅b'\n",
    "print('search:',re.search(patter,s).group())\n",
    "print('match:',re.match(patter,s))\n",
    "print('fullmatch:',re.fullmatch(patter,s))"
   ]
  },
  {
   "cell_type": "code",
   "execution_count": 131,
   "metadata": {
    "ExecuteTime": {
     "end_time": "2021-04-16T07:19:25.816636Z",
     "start_time": "2021-04-16T07:19:25.801677Z"
    }
   },
   "outputs": [
    {
     "name": "stdout",
     "output_type": "stream",
     "text": [
      "search: 诸葛大帅b\n",
      "match: 诸葛大帅b\n",
      "fullmatch: None\n"
     ]
    }
   ],
   "source": [
    "s = '诸葛大帅b，诸葛大帅b'\n",
    "patter = r'诸葛大帅b'\n",
    "print('search:',re.search(patter,s).group()) #从头开始匹配，知道匹配到第一个结果为止\n",
    "print('match:',re.match(patter,s).group())  #match从开头开始匹配，开头不匹配就停止\n",
    "print('fullmatch:',re.fullmatch(patter,s))  #整个字符串与匹配结果吻合，才返回结果"
   ]
  },
  {
   "cell_type": "markdown",
   "metadata": {},
   "source": [
    "### 查找多个匹配项"
   ]
  },
  {
   "cell_type": "markdown",
   "metadata": {},
   "source": [
    "1、findall：从字符串任意位置查找，返回一个列表\n",
    "\n",
    "2、finditer：从字符串任意位置查找，返回一个迭代器"
   ]
  },
  {
   "cell_type": "code",
   "execution_count": 132,
   "metadata": {
    "ExecuteTime": {
     "end_time": "2021-04-16T07:19:25.831596Z",
     "start_time": "2021-04-16T07:19:25.817633Z"
    }
   },
   "outputs": [
    {
     "name": "stdout",
     "output_type": "stream",
     "text": [
      "findall: ['诸葛大帅b', '诸葛大帅b']\n",
      "finditer: [<re.Match object; span=(0, 5), match='诸葛大帅b'>, <re.Match object; span=(6, 11), match='诸葛大帅b'>]\n"
     ]
    }
   ],
   "source": [
    "s = '诸葛大帅b，诸葛大帅b'\n",
    "patter = r'诸葛大帅b'\n",
    "print('findall:',re.findall(patter,s))\n",
    "print('finditer:',list(re.finditer(patter,s)))"
   ]
  },
  {
   "cell_type": "markdown",
   "metadata": {},
   "source": [
    "## findall（rule，target[，flag]） 函数  \n",
    "在目标字符串中查找复合规则的字符串，并将其返回\n",
    "第一个参数与是规则，第二个参数是目标字符串，最后面还可以跟一个规则选项，，返回结果是一个列表，中间存放的是符合规则的字符串"
   ]
  },
  {
   "cell_type": "markdown",
   "metadata": {},
   "source": [
    "## match和search\n",
    "match（rule，targe[,flag])\n",
    "\n",
    "search(rule, target[,flag])"
   ]
  },
  {
   "cell_type": "markdown",
   "metadata": {},
   "source": [
    "第一个参数是规则，第二参数是目标字符串，第三个参数是选项"
   ]
  },
  {
   "cell_type": "markdown",
   "metadata": {},
   "source": [
    "match 函数和search函数唯一的不同在于，match函数从字符串的开头开始匹配，如果开头位置没有匹配成功，失败了就结束了；而search会跳过开头，继续像后面寻找是否有匹配的字符串。针对不同的需要，可以灵活使用这两个函数"
   ]
  },
  {
   "cell_type": "code",
   "execution_count": 133,
   "metadata": {
    "ExecuteTime": {
     "end_time": "2021-04-16T07:19:25.846587Z",
     "start_time": "2021-04-16T07:19:25.832593Z"
    }
   },
   "outputs": [
    {
     "data": {
      "text/plain": [
       "<re.Match object; span=(0, 8), match='Tom:7527'>"
      ]
     },
     "execution_count": 133,
     "metadata": {},
     "output_type": "execute_result"
    }
   ],
   "source": [
    "s ='Tom:7527 ,Sharry:003'\n",
    "m = re.search(r'(?P<name>\\w+):(?P<num>\\d+)',s)\n",
    "m"
   ]
  },
  {
   "cell_type": "code",
   "execution_count": 134,
   "metadata": {
    "ExecuteTime": {
     "end_time": "2021-04-16T07:19:25.861517Z",
     "start_time": "2021-04-16T07:19:25.847553Z"
    }
   },
   "outputs": [
    {
     "data": {
      "text/plain": [
       "'Tom:7527'"
      ]
     },
     "execution_count": 134,
     "metadata": {},
     "output_type": "execute_result"
    }
   ],
   "source": [
    "m.group()"
   ]
  },
  {
   "cell_type": "code",
   "execution_count": 135,
   "metadata": {
    "ExecuteTime": {
     "end_time": "2021-04-16T07:19:25.877506Z",
     "start_time": "2021-04-16T07:19:25.862513Z"
    }
   },
   "outputs": [
    {
     "data": {
      "text/plain": [
       "('Tom', '7527')"
      ]
     },
     "execution_count": 135,
     "metadata": {},
     "output_type": "execute_result"
    }
   ],
   "source": [
    "m.groups()"
   ]
  },
  {
   "cell_type": "code",
   "execution_count": 136,
   "metadata": {
    "ExecuteTime": {
     "end_time": "2021-04-16T07:19:25.893430Z",
     "start_time": "2021-04-16T07:19:25.878472Z"
    }
   },
   "outputs": [
    {
     "data": {
      "text/plain": [
       "'Tom'"
      ]
     },
     "execution_count": 136,
     "metadata": {},
     "output_type": "execute_result"
    }
   ],
   "source": [
    "m.group('name')"
   ]
  },
  {
   "cell_type": "code",
   "execution_count": 137,
   "metadata": {
    "ExecuteTime": {
     "end_time": "2021-04-16T07:19:25.908392Z",
     "start_time": "2021-04-16T07:19:25.894428Z"
    }
   },
   "outputs": [
    {
     "data": {
      "text/plain": [
       "'7527'"
      ]
     },
     "execution_count": 137,
     "metadata": {},
     "output_type": "execute_result"
    }
   ],
   "source": [
    "m.group('num')"
   ]
  },
  {
   "cell_type": "code",
   "execution_count": 138,
   "metadata": {
    "ExecuteTime": {
     "end_time": "2021-04-16T07:19:25.924348Z",
     "start_time": "2021-04-16T07:19:25.909389Z"
    }
   },
   "outputs": [
    {
     "data": {
      "text/plain": [
       "<re.Match object; span=(0, 8), match='Tom:7527'>"
      ]
     },
     "execution_count": 138,
     "metadata": {},
     "output_type": "execute_result"
    }
   ],
   "source": [
    "re.search(r'(?P<name>\\w+):(?P<num>\\d+)',s)"
   ]
  },
  {
   "cell_type": "code",
   "execution_count": 154,
   "metadata": {
    "ExecuteTime": {
     "end_time": "2021-04-16T07:19:26.173591Z",
     "start_time": "2021-04-16T07:19:26.159599Z"
    }
   },
   "outputs": [],
   "source": [
    "p = re.compile(r'(?P<name>[a-z]+)\\s+(?P<age>\\d+)\\s+(?P<tel>\\d+)',re.I)"
   ]
  },
  {
   "cell_type": "code",
   "execution_count": 155,
   "metadata": {
    "ExecuteTime": {
     "end_time": "2021-04-16T07:19:26.189548Z",
     "start_time": "2021-04-16T07:19:26.174558Z"
    }
   },
   "outputs": [
    {
     "data": {
      "text/plain": [
       "mappingproxy({'name': 1, 'age': 2, 'tel': 3})"
      ]
     },
     "execution_count": 155,
     "metadata": {},
     "output_type": "execute_result"
    }
   ],
   "source": [
    "p.groupindex"
   ]
  },
  {
   "cell_type": "code",
   "execution_count": 156,
   "metadata": {
    "ExecuteTime": {
     "end_time": "2021-04-16T07:19:26.205508Z",
     "start_time": "2021-04-16T07:19:26.190515Z"
    }
   },
   "outputs": [],
   "source": [
    "s = 'Tom 24 88888888 <='"
   ]
  },
  {
   "cell_type": "code",
   "execution_count": 157,
   "metadata": {
    "ExecuteTime": {
     "end_time": "2021-04-16T07:19:26.221432Z",
     "start_time": "2021-04-16T07:19:26.206472Z"
    }
   },
   "outputs": [],
   "source": [
    "m = p.search(s)"
   ]
  },
  {
   "cell_type": "markdown",
   "metadata": {},
   "source": [
    "group([index/id]）获取匹配的组，省缺时返回组0，也就是全部值\n",
    "\n",
    "groups()表示返回全部的组"
   ]
  },
  {
   "cell_type": "code",
   "execution_count": 158,
   "metadata": {
    "ExecuteTime": {
     "end_time": "2021-04-16T07:19:26.237389Z",
     "start_time": "2021-04-16T07:19:26.222431Z"
    }
   },
   "outputs": [
    {
     "data": {
      "text/plain": [
       "('Tom', '24', '88888888')"
      ]
     },
     "execution_count": 158,
     "metadata": {},
     "output_type": "execute_result"
    }
   ],
   "source": [
    "m.groups()# 查看各个分组的情况"
   ]
  },
  {
   "cell_type": "code",
   "execution_count": 159,
   "metadata": {
    "ExecuteTime": {
     "end_time": "2021-04-16T07:19:26.253377Z",
     "start_time": "2021-04-16T07:19:26.238387Z"
    }
   },
   "outputs": [
    {
     "data": {
      "text/plain": [
       "'Tom'"
      ]
     },
     "execution_count": 159,
     "metadata": {},
     "output_type": "execute_result"
    }
   ],
   "source": [
    "m.group('name')#使用组名获取匹配的字符串"
   ]
  },
  {
   "cell_type": "code",
   "execution_count": 160,
   "metadata": {
    "ExecuteTime": {
     "end_time": "2021-04-16T07:19:26.269343Z",
     "start_time": "2021-04-16T07:19:26.254345Z"
    }
   },
   "outputs": [
    {
     "data": {
      "text/plain": [
       "'Tom'"
      ]
     },
     "execution_count": 160,
     "metadata": {},
     "output_type": "execute_result"
    }
   ],
   "source": [
    "m.group(1)#使用组序号获取匹配的字符串，同使用组名的效果一样"
   ]
  },
  {
   "cell_type": "code",
   "execution_count": 161,
   "metadata": {
    "ExecuteTime": {
     "end_time": "2021-04-16T07:19:26.285292Z",
     "start_time": "2021-04-16T07:19:26.270302Z"
    }
   },
   "outputs": [
    {
     "data": {
      "text/plain": [
       "'Tom 24 88888888'"
      ]
     },
     "execution_count": 161,
     "metadata": {},
     "output_type": "execute_result"
    }
   ],
   "source": [
    "m.group(0) #0号组是指整个正则式所匹配到的内容。"
   ]
  },
  {
   "cell_type": "code",
   "execution_count": 162,
   "metadata": {
    "ExecuteTime": {
     "end_time": "2021-04-16T07:19:26.301234Z",
     "start_time": "2021-04-16T07:19:26.286259Z"
    }
   },
   "outputs": [
    {
     "data": {
      "text/plain": [
       "'tel'"
      ]
     },
     "execution_count": 162,
     "metadata": {},
     "output_type": "execute_result"
    }
   ],
   "source": [
    "m.lastgroup  #获得最后一个组的组名"
   ]
  },
  {
   "cell_type": "code",
   "execution_count": 163,
   "metadata": {
    "ExecuteTime": {
     "end_time": "2021-04-16T07:19:26.317176Z",
     "start_time": "2021-04-16T07:19:26.302216Z"
    }
   },
   "outputs": [
    {
     "data": {
      "text/plain": [
       "{'name': 'Tom', 'age': '24', 'tel': '88888888'}"
      ]
     },
     "execution_count": 163,
     "metadata": {},
     "output_type": "execute_result"
    }
   ],
   "source": [
    "m.groupdict() #返回以组名为key，匹配内容为values的字典"
   ]
  },
  {
   "cell_type": "code",
   "execution_count": 164,
   "metadata": {
    "ExecuteTime": {
     "end_time": "2021-04-16T07:19:26.332168Z",
     "start_time": "2021-04-16T07:19:26.318173Z"
    }
   },
   "outputs": [
    {
     "data": {
      "text/plain": [
       "4"
      ]
     },
     "execution_count": 164,
     "metadata": {},
     "output_type": "execute_result"
    }
   ],
   "source": [
    "m.start(2) #获取第二个组匹配成功开始位置"
   ]
  },
  {
   "cell_type": "code",
   "execution_count": 165,
   "metadata": {
    "ExecuteTime": {
     "end_time": "2021-04-16T07:19:26.347129Z",
     "start_time": "2021-04-16T07:19:26.334131Z"
    }
   },
   "outputs": [
    {
     "data": {
      "text/plain": [
       "6"
      ]
     },
     "execution_count": 165,
     "metadata": {},
     "output_type": "execute_result"
    }
   ],
   "source": [
    "m.end(2) #获取第二个组匹配成功的结束位置"
   ]
  },
  {
   "cell_type": "code",
   "execution_count": 166,
   "metadata": {
    "ExecuteTime": {
     "end_time": "2021-04-16T07:19:26.362068Z",
     "start_time": "2021-04-16T07:19:26.348094Z"
    }
   },
   "outputs": [
    {
     "data": {
      "text/plain": [
       "(4, 6)"
      ]
     },
     "execution_count": 166,
     "metadata": {},
     "output_type": "execute_result"
    }
   ],
   "source": [
    "m.span(2) #获取第二个组匹配成功的开始和结束位置"
   ]
  },
  {
   "cell_type": "markdown",
   "metadata": {},
   "source": [
    " expand函数 这个函数比较有意思\n",
    "根据一个模板用找到的内容替换模板里的指定位置"
   ]
  },
  {
   "cell_type": "code",
   "execution_count": 167,
   "metadata": {
    "ExecuteTime": {
     "end_time": "2021-04-16T07:19:26.377048Z",
     "start_time": "2021-04-16T07:19:26.363053Z"
    }
   },
   "outputs": [
    {
     "data": {
      "text/plain": [
       "'name is Tom,age is 24,tel is 88888888'"
      ]
     },
     "execution_count": 167,
     "metadata": {},
     "output_type": "execute_result"
    }
   ],
   "source": [
    "m.expand(r'name is \\g<1>,age is \\g<age>,tel is \\3')  #主要是将匹配的内容进行重新应用"
   ]
  },
  {
   "cell_type": "code",
   "execution_count": 168,
   "metadata": {
    "ExecuteTime": {
     "end_time": "2021-04-16T07:19:26.392999Z",
     "start_time": "2021-04-16T07:19:26.378014Z"
    }
   },
   "outputs": [
    {
     "data": {
      "text/plain": [
       "'(?P<name>[a-z]+)\\\\s+(?P<age>\\\\d+)\\\\s+(?P<tel>\\\\d+)'"
      ]
     },
     "execution_count": 168,
     "metadata": {},
     "output_type": "execute_result"
    }
   ],
   "source": [
    "m.re.pattern     #获取匹配成功后，采用何种匹配规则"
   ]
  },
  {
   "cell_type": "code",
   "execution_count": 169,
   "metadata": {
    "ExecuteTime": {
     "end_time": "2021-04-16T07:19:26.407964Z",
     "start_time": "2021-04-16T07:19:26.393971Z"
    }
   },
   "outputs": [
    {
     "data": {
      "text/plain": [
       "0"
      ]
     },
     "execution_count": 169,
     "metadata": {},
     "output_type": "execute_result"
    }
   ],
   "source": [
    "m.pos  #获取匹配的开始位置"
   ]
  },
  {
   "cell_type": "code",
   "execution_count": 170,
   "metadata": {
    "ExecuteTime": {
     "end_time": "2021-04-16T07:19:26.423922Z",
     "start_time": "2021-04-16T07:19:26.408931Z"
    }
   },
   "outputs": [
    {
     "data": {
      "text/plain": [
       "18"
      ]
     },
     "execution_count": 170,
     "metadata": {},
     "output_type": "execute_result"
    }
   ],
   "source": [
    "m.endpos #获取匹配的结束位置"
   ]
  },
  {
   "cell_type": "code",
   "execution_count": 171,
   "metadata": {
    "ExecuteTime": {
     "end_time": "2021-04-16T07:19:26.438883Z",
     "start_time": "2021-04-16T07:19:26.424888Z"
    },
    "scrolled": true
   },
   "outputs": [
    {
     "data": {
      "text/plain": [
       "'Tom 24 88888888 <='"
      ]
     },
     "execution_count": 171,
     "metadata": {},
     "output_type": "execute_result"
    }
   ],
   "source": [
    "m.string #获取匹配的字符串"
   ]
  },
  {
   "cell_type": "markdown",
   "metadata": {},
   "source": [
    "## finditer 函数  返回一个迭代器\n",
    "finditer的参数设置情况与findall相同，区别在于findall返回所有匹配的字符串，并存储为一个列表；finditer不是返回列表，而是返回一个迭代器"
   ]
  },
  {
   "cell_type": "code",
   "execution_count": 139,
   "metadata": {
    "ExecuteTime": {
     "end_time": "2021-04-16T07:19:25.939309Z",
     "start_time": "2021-04-16T07:19:25.925348Z"
    }
   },
   "outputs": [],
   "source": [
    "s = '111 222 333 444'"
   ]
  },
  {
   "cell_type": "code",
   "execution_count": 140,
   "metadata": {
    "ExecuteTime": {
     "end_time": "2021-04-16T07:19:25.955266Z",
     "start_time": "2021-04-16T07:19:25.940307Z"
    }
   },
   "outputs": [
    {
     "name": "stdout",
     "output_type": "stream",
     "text": [
      "111\n",
      "(0, 3)\n",
      "222\n",
      "(4, 7)\n",
      "333\n",
      "(8, 11)\n",
      "444\n",
      "(12, 15)\n"
     ]
    }
   ],
   "source": [
    "for i in re.finditer(r'\\d+',s):\n",
    "    print(i.group()),print(i.span())"
   ]
  },
  {
   "cell_type": "markdown",
   "metadata": {},
   "source": [
    "## sub和subn函数，字符串的替换与修改"
   ]
  },
  {
   "cell_type": "markdown",
   "metadata": {},
   "source": [
    "\n",
    "sub(rule,replace,target[,count])\n",
    "\n",
    "subn(rule,replace,target[,count])"
   ]
  },
  {
   "cell_type": "markdown",
   "metadata": {},
   "source": [
    "第一个参数是正则规则，第二个参数是用来替换的字符串，第三个参数是目标字符串，第四个参数是最多替换的次数"
   ]
  },
  {
   "cell_type": "markdown",
   "metadata": {},
   "source": [
    "两个字符串唯一的区别是，返回值不同，sub函数返回一个被替换的字符串，subn函数返回一个元祖，第一个元素是被替换的字符串，第二个元素是一个数字，表明产生了多少次替换"
   ]
  },
  {
   "cell_type": "code",
   "execution_count": 141,
   "metadata": {
    "ExecuteTime": {
     "end_time": "2021-04-16T07:19:25.971256Z",
     "start_time": "2021-04-16T07:19:25.956263Z"
    }
   },
   "outputs": [
    {
     "data": {
      "text/plain": [
       "'i have a cat , you have a cat , he have a cat'"
      ]
     },
     "execution_count": 141,
     "metadata": {},
     "output_type": "execute_result"
    }
   ],
   "source": [
    "s = 'i have a dog , you have a dog , he have a dog'\n",
    "re.sub(r'dog','cat',s)"
   ]
  },
  {
   "cell_type": "code",
   "execution_count": 142,
   "metadata": {
    "ExecuteTime": {
     "end_time": "2021-04-16T07:19:25.987211Z",
     "start_time": "2021-04-16T07:19:25.972222Z"
    }
   },
   "outputs": [
    {
     "data": {
      "text/plain": [
       "('i have a cat , you have a cat , he have a cat', 3)"
      ]
     },
     "execution_count": 142,
     "metadata": {},
     "output_type": "execute_result"
    }
   ],
   "source": [
    "re.subn(r'dog','cat',s)"
   ]
  },
  {
   "cell_type": "code",
   "execution_count": 143,
   "metadata": {
    "ExecuteTime": {
     "end_time": "2021-04-16T07:19:26.003168Z",
     "start_time": "2021-04-16T07:19:25.988178Z"
    }
   },
   "outputs": [
    {
     "data": {
      "text/plain": [
       "('i have a cat , you have a cat , he have a dog', 2)"
      ]
     },
     "execution_count": 143,
     "metadata": {},
     "output_type": "execute_result"
    }
   ],
   "source": [
    "re.subn(r'dog','cat',s,2)"
   ]
  },
  {
   "cell_type": "code",
   "execution_count": 206,
   "metadata": {
    "ExecuteTime": {
     "end_time": "2021-04-16T07:19:26.019096Z",
     "start_time": "2021-04-16T07:19:26.005132Z"
    }
   },
   "outputs": [],
   "source": [
    "s = 'java:20,python:40'"
   ]
  },
  {
   "cell_type": "code",
   "execution_count": 207,
   "metadata": {
    "ExecuteTime": {
     "end_time": "2021-04-16T07:19:26.034087Z",
     "start_time": "2021-04-16T07:19:26.020093Z"
    }
   },
   "outputs": [],
   "source": [
    "def func(temp):#其中的temp为匹配的结果\n",
    "    num = int(temp.group())\n",
    "    num2 = num+30\n",
    "    return str(num2)"
   ]
  },
  {
   "cell_type": "code",
   "execution_count": 208,
   "metadata": {
    "ExecuteTime": {
     "end_time": "2021-04-16T07:19:26.049046Z",
     "start_time": "2021-04-16T07:19:26.035053Z"
    }
   },
   "outputs": [
    {
     "data": {
      "text/plain": [
       "'java:50,python:70'"
      ]
     },
     "execution_count": 208,
     "metadata": {},
     "output_type": "execute_result"
    }
   ],
   "source": [
    "re.sub(r'\\d+',func,s)#这里的替换内容还可以是一个函数，而且只需要传一个函数名"
   ]
  },
  {
   "cell_type": "markdown",
   "metadata": {},
   "source": [
    "## 切片函数 split(rule,target(,count))\n",
    "使用指定的正则规则，在目标字符串中查找指定的字符串，用他们作为边界，把字符串切片"
   ]
  },
  {
   "cell_type": "markdown",
   "metadata": {},
   "source": [
    "第一个参数是正则规则，第二个参数是目标字符串，第三个参数是最多切片次数,返回一个被切完的字符串列表"
   ]
  },
  {
   "cell_type": "code",
   "execution_count": 215,
   "metadata": {
    "ExecuteTime": {
     "end_time": "2021-04-16T07:19:26.063886Z",
     "start_time": "2021-04-16T07:19:26.050012Z"
    }
   },
   "outputs": [
    {
     "data": {
      "text/plain": [
       "'java:20,python:40'"
      ]
     },
     "execution_count": 215,
     "metadata": {},
     "output_type": "execute_result"
    }
   ],
   "source": [
    "s"
   ]
  },
  {
   "cell_type": "code",
   "execution_count": 216,
   "metadata": {
    "ExecuteTime": {
     "end_time": "2021-04-16T07:19:26.079842Z",
     "start_time": "2021-04-16T07:19:26.065848Z"
    }
   },
   "outputs": [
    {
     "data": {
      "text/plain": [
       "['java', '20', 'python', '40']"
      ]
     },
     "execution_count": 216,
     "metadata": {},
     "output_type": "execute_result"
    }
   ],
   "source": [
    "re.split(r'[,:]',s)"
   ]
  },
  {
   "cell_type": "code",
   "execution_count": 217,
   "metadata": {
    "ExecuteTime": {
     "end_time": "2021-04-16T07:19:26.095799Z",
     "start_time": "2021-04-16T07:19:26.080808Z"
    }
   },
   "outputs": [
    {
     "data": {
      "text/plain": [
       "['java:20', 'python:40']"
      ]
     },
     "execution_count": 217,
     "metadata": {},
     "output_type": "execute_result"
    }
   ],
   "source": [
    "re.split(',',s,1)"
   ]
  },
  {
   "cell_type": "markdown",
   "metadata": {},
   "source": [
    "## escape 函数使用"
   ]
  },
  {
   "cell_type": "markdown",
   "metadata": {},
   "source": [
    "有时候你可能希望在正则式中匹配一个字符串，不过里面含有很多re使用的符号，你要一个一个的修改写法实在有点麻烦，你可以使用这个函数,"
   ]
  },
  {
   "cell_type": "code",
   "execution_count": 150,
   "metadata": {
    "ExecuteTime": {
     "end_time": "2021-04-16T07:19:26.111726Z",
     "start_time": "2021-04-16T07:19:26.096767Z"
    }
   },
   "outputs": [],
   "source": [
    "s= '111 222 (*+?) 333'"
   ]
  },
  {
   "cell_type": "code",
   "execution_count": 151,
   "metadata": {
    "ExecuteTime": {
     "end_time": "2021-04-16T07:19:26.127684Z",
     "start_time": "2021-04-16T07:19:26.112723Z"
    }
   },
   "outputs": [],
   "source": [
    "rule= re.escape( r'(*+?)' )"
   ]
  },
  {
   "cell_type": "code",
   "execution_count": 152,
   "metadata": {
    "ExecuteTime": {
     "end_time": "2021-04-16T07:19:26.143640Z",
     "start_time": "2021-04-16T07:19:26.129679Z"
    }
   },
   "outputs": [
    {
     "name": "stdout",
     "output_type": "stream",
     "text": [
      "\\(\\*\\+\\?\\)\n"
     ]
    }
   ],
   "source": [
    "print(rule)"
   ]
  },
  {
   "cell_type": "code",
   "execution_count": 153,
   "metadata": {
    "ExecuteTime": {
     "end_time": "2021-04-16T07:19:26.158599Z",
     "start_time": "2021-04-16T07:19:26.144639Z"
    }
   },
   "outputs": [
    {
     "data": {
      "text/plain": [
       "['(*+?)']"
      ]
     },
     "execution_count": 153,
     "metadata": {},
     "output_type": "execute_result"
    }
   ],
   "source": [
    "re.findall(rule,s)"
   ]
  }
 ],
 "metadata": {
  "kernelspec": {
   "display_name": "Python 3",
   "language": "python",
   "name": "python3"
  },
  "language_info": {
   "codemirror_mode": {
    "name": "ipython",
    "version": 3
   },
   "file_extension": ".py",
   "mimetype": "text/x-python",
   "name": "python",
   "nbconvert_exporter": "python",
   "pygments_lexer": "ipython3",
   "version": "3.8.3"
  },
  "toc": {
   "base_numbering": 1,
   "nav_menu": {
    "height": "488px",
    "width": "377px"
   },
   "number_sections": true,
   "sideBar": true,
   "skip_h1_title": false,
   "title_cell": "Table of Contents",
   "title_sidebar": "Contents",
   "toc_cell": false,
   "toc_position": {
    "height": "757px",
    "left": "130px",
    "top": "195.6px",
    "width": "355.625px"
   },
   "toc_section_display": true,
   "toc_window_display": true
  },
  "varInspector": {
   "cols": {
    "lenName": 16,
    "lenType": 16,
    "lenVar": 40
   },
   "kernels_config": {
    "python": {
     "delete_cmd_postfix": "",
     "delete_cmd_prefix": "del ",
     "library": "var_list.py",
     "varRefreshCmd": "print(var_dic_list())"
    },
    "r": {
     "delete_cmd_postfix": ") ",
     "delete_cmd_prefix": "rm(",
     "library": "var_list.r",
     "varRefreshCmd": "cat(var_dic_list()) "
    }
   },
   "position": {
    "height": "231px",
    "left": "1545px",
    "right": "20px",
    "top": "120px",
    "width": "355px"
   },
   "types_to_exclude": [
    "module",
    "function",
    "builtin_function_or_method",
    "instance",
    "_Feature"
   ],
   "window_display": false
  }
 },
 "nbformat": 4,
 "nbformat_minor": 4
}
